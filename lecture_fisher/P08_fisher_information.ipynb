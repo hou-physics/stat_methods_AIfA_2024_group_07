{
 "cells": [
  {
   "cell_type": "markdown",
   "metadata": {},
   "source": [
    "# P08: Fisher matrices and information"
   ]
  },
  {
   "cell_type": "markdown",
   "metadata": {},
   "source": [
    "## Problem 1: Fisher matrix for a Gaussian likelihood"
   ]
  },
  {
   "cell_type": "markdown",
   "metadata": {},
   "source": [
    "Assume data $\\boldsymbol{x}$ with mean $\\boldsymbol{\\mu}$ and covariance $\\boldsymbol{\\mathrm{C}}$, following an $d$-dimensional Gaussian distribution in data space. Recall that $\\langle\\boldsymbol{x}\\rangle =\\boldsymbol{\\mu}$ and $\\langle\\boldsymbol{\\mathrm{D}}\\rangle \\coloneqq \\langle(\\boldsymbol{x} - \\boldsymbol{\\mu})\\otimes (\\boldsymbol{x} - \\boldsymbol{\\mu})\\rangle = \\boldsymbol{\\mathrm{C}}$. \n",
    "\n",
    "1. Show that in this case, the Fisher matrix can be written as:\n",
    "$$\n",
    "\\boldsymbol{\\mathrm{F}}_{\\alpha\\beta} = \\frac{1}{2}\\mathrm{tr}\\left(\\boldsymbol{\\mathrm{C}}^{-1} \\frac{\\partial\\boldsymbol{\\mathrm{C}}}{\\partial\\boldsymbol{\\theta}^\\alpha}\\boldsymbol{\\mathrm{C}}^{-1} \\frac{\\partial\\boldsymbol{\\mathrm{C}}}{\\partial\\boldsymbol{\\theta}^\\beta} + 2\\boldsymbol{\\mathrm{C}}^{-1} \\frac{\\partial \\boldsymbol{\\mu}}{\\partial\\boldsymbol{\\theta}^\\alpha} \\frac{\\partial \\boldsymbol{\\mu}^\\mathrm{T}}{\\partial\\boldsymbol{\\theta}^\\beta} \\right)\\,. \n",
    "$$\n",
    "\n",
    "2. Show that any linear transformation of the data will leave the Fisher matrix unchanged. Hint: any vector, $\\boldsymbol{x}$, changes as $\\boldsymbol{y} = \\boldsymbol{\\mathrm{A}}\\boldsymbol{x}$ under a linear transformation, where $\\boldsymbol{\\mathrm{A}}$ is the transformation matrix."
   ]
  },
  {
   "cell_type": "markdown",
   "metadata": {},
   "source": [
    "## Problem 2: Fisher matrix of supernovae and pitfalls\n",
    "\n",
    "The code snippet below provides you with the luminosity distance used in cosmology. This measurement (ignoring some additional complication) is used in cosmology by observing supernovae of type Ia to deduce the expansion history of the Universe and therefore its content.\n",
    "The code calculates the luminosity distance for $N_\\mathrm{sn}$ and parameters $\\theta$. The variable $N_\\mathrm{trapz}$ controls the number of function evaluations in the numerical integration of the luminosity distance, the latter is given by:\n",
    "\n",
    "$$\n",
    "d_\\mathrm{L}(a) = \\frac{1}{a|K|^{1/2}}f_{K}\\left(-|K|^{1/2}\\chi_\\mathrm{H}\\int_1^{a}\\frac{\\mathrm{d}a'}{a'^2E(a')}\\right)\\,,\n",
    "$$\n",
    "\n",
    "where $\\chi_\\mathrm{H} = c/H_0$ is the Hubble radius $c$ the speed of light and $H_0$ the expansion rate of the Universe today. $K$ measures the spatial curvature and is given by $K= \\Omega_\\mathrm{k}/\\chi_H^2$. The function $f_{K}$ is\n",
    "\n",
    "$$\n",
    "\n",
    "f_K(x) = \\left\\{\\begin{array}{cc}\n",
    "\\sin(x) & \\mathrm{if\\;} K > 0\\,,\\\\\n",
    "x & \\mathrm{if\\;} K = 0\\,,\\\\\n",
    "\\mathrm{sinh}(x) & \\mathrm{if\\;} K < 0\\;.\n",
    "\\end{array}\\right.\n",
    "$$\n",
    "\n",
    "Lastly, $E(a)$ is the dimensionless Hubble function, also called expansion function. It is given by:\n",
    "\n",
    "$$\n",
    "E(a) = a^{-3/2}\\left(\\Omega_\\mathrm{m} + \\Omega_\\Lambda a^{-3(w_0 + w_\\mathrm{a})}\\exp\\left(3w_\\mathrm{a}(a-1)\\right) + \\Omega_\\mathrm{K}a\\right)^{1/2}\\,.\n",
    "$$\n",
    "\n",
    "The integral is carried out with a trapezoidal rule using $N_\\mathrm{trapz}$ points.\n",
    "\n",
    "The model consists of five parameters, which we bundle into the vector $\\boldsymbol{\\theta}$ such that:\n",
    "\n",
    "$$\n",
    "\\boldsymbol{\\theta}^\\mathrm{T} = (\\Omega_\\mathrm{m}, \\Omega_\\mathrm{k},\\chi_\\mathrm{H}, w_0, w\\mathrm{a})\\,,\\quad \\boldsymbol{\\theta}^\\mathrm{T}_0 =   (0.3, 0., 4.0, -1,.0)\\, \n",
    "$$\n",
    "\n",
    "the meaning of this parameters is the fractional matter density in the Universe, the curvature density parameter, the Hubble radius (or the Hubble constant, as the speed of light is constant) and two parameters for dynamical dark energy.\n",
    "\n",
    "Lastly note that I added a tiny random noise on the final value of the luminosity distance to mimic numerical noise.\n",
    "\n",
    "1. Write a function to numerically calculate the derivatives of the luminosity distance with respect to all parameters. You can do this, using finite differencing: $$\n",
    "\\frac{\\partial f(x)}{\\partial x} = \\frac{f(x + h) - f(x-h)}{2h}\\,,$$ for some small $h$.\n",
    "\n",
    "2. Assume that the data points are not correlated and have all a relative error of 10 per cent. Write a code to calculate the Fisher matrix by using the equation from problem 1 and ignore any parameter dependence in the covariance matrix. Matrix inversion can be done by `numpy.linalg.inv(matrix)`.\n",
    "\n",
    "3. Plot the conditional and marginal uncertainties $1\\sigma$ of all parameters as a function of the step width, $h$, used for the finite differencing. \n",
    "\n",
    "4. Show the 2d marginal $1\\sigma$ uncertainty for the parameters $w_0$ and $w_\\mathrm{a}$. "
   ]
  },
  {
   "cell_type": "code",
   "execution_count": 34,
   "metadata": {},
   "outputs": [],
   "source": [
    "import numpy as np\n",
    "import matplotlib.pyplot as plt\n",
    "\n",
    "theta_0 = [0.3, 0., 4.0, -1,.0]\n",
    "\n",
    "\n",
    "\n",
    "# luminosity distance as a function parameters\n",
    "def luminosity_distance(theta, N_trapz, N_sn):\n",
    "\n",
    "\n",
    "    np.random.seed(seed=42)\n",
    "    # randomly chose redshifts between 0 and 1.5 for the SN\n",
    "    z_sn = np.random.rand(N_sn)*1.5\n",
    "    a_sn = 1/(1+z_sn)\n",
    "    a_int = []\n",
    "\n",
    "    np.random.seed()\n",
    "\n",
    "    # integration variable\n",
    "    for i_a, val_a in enumerate(a_sn):\n",
    "        a_int.append(np.linspace(1,val_a, N_trapz))\n",
    "    a_int = np.array(a_int)\n",
    "\n",
    "    # expansion function as a function of parameters and scale factor\n",
    "    Om = theta[0]\n",
    "    Ok = theta[1]\n",
    "    Ol = 1.0 - Ok - Om\n",
    "    chih = theta[2]\n",
    "    w0 = theta[3]\n",
    "    wa = theta[4]\n",
    "    eofa = a_int**-1.5*(Om + Ol*a_int**(-3*(w0 + wa))*np.exp(3*wa*(a_int-1)) + Ok*a_int)**.5\n",
    "    chih = theta[2]\n",
    "    Ok = theta[1]\n",
    "    chi = -chih*np.trapezoid(1/(a_int**2*eofa), x = a_int)\n",
    "    chi += chi*np.random.rand(N_sn)*1e-6\n",
    "    K = np.abs(Ok/chih**2)\n",
    "    if Ok > 0:\n",
    "        return 1/a_sn*K**(-.5)*np.sin(K**.5*chi)\n",
    "    if Ok < 0:\n",
    "        return 1/a_sn*K**(-.5)*np.sinh(K**.5*chi)\n",
    "    if Ok == 0:\n",
    "        return 1/a_sn*chi\n",
    "\n",
    "\n",
    "\n",
    "\n"
   ]
  }
 ],
 "metadata": {
  "kernelspec": {
   "display_name": "cov20_env",
   "language": "python",
   "name": "python3"
  },
  "language_info": {
   "codemirror_mode": {
    "name": "ipython",
    "version": 3
   },
   "file_extension": ".py",
   "mimetype": "text/x-python",
   "name": "python",
   "nbconvert_exporter": "python",
   "pygments_lexer": "ipython3",
   "version": "3.12.7"
  }
 },
 "nbformat": 4,
 "nbformat_minor": 2
}
